{
  "cells": [
    {
      "cell_type": "code",
      "execution_count": 1,
      "metadata": {
        "execution": {
          "iopub.execute_input": "2024-04-24T14:21:32.721238Z",
          "iopub.status.busy": "2024-04-24T14:21:32.720865Z",
          "iopub.status.idle": "2024-04-24T14:21:33.112022Z",
          "shell.execute_reply": "2024-04-24T14:21:33.110981Z",
          "shell.execute_reply.started": "2024-04-24T14:21:32.721204Z"
        },
        "id": "LGcmVcn7kZYF",
        "trusted": true
      },
      "outputs": [],
      "source": [
        "import pandas as pd"
      ]
    },
    {
      "cell_type": "markdown",
      "metadata": {
        "id": "PbBlNcM5kZYN"
      },
      "source": [
        "### Data Loading and Visualization"
      ]
    },
    {
      "cell_type": "code",
      "execution_count": 2,
      "metadata": {
        "_cell_guid": "b1076dfc-b9ad-4769-8c92-a6c4dae69d19",
        "_uuid": "8f2839f25d086af736a60e9eeb907d3b93b6e0e5",
        "execution": {
          "iopub.execute_input": "2024-04-24T14:21:34.587226Z",
          "iopub.status.busy": "2024-04-24T14:21:34.586660Z",
          "iopub.status.idle": "2024-04-24T14:21:34.591890Z",
          "shell.execute_reply": "2024-04-24T14:21:34.590748Z",
          "shell.execute_reply.started": "2024-04-24T14:21:34.587195Z"
        },
        "id": "wowOciyikZYR",
        "trusted": true
      },
      "outputs": [],
      "source": [
        "train_set = \"imdb_urdu_reviews_train.csv\"\n",
        "test_set = \"imdb_urdu_reviews_test.csv\""
      ]
    },
    {
      "cell_type": "code",
      "execution_count": 3,
      "metadata": {
        "colab": {
          "base_uri": "https://localhost:8080/",
          "height": 206
        },
        "execution": {
          "iopub.execute_input": "2024-04-24T14:21:36.431706Z",
          "iopub.status.busy": "2024-04-24T14:21:36.430988Z",
          "iopub.status.idle": "2024-04-24T14:21:38.311993Z",
          "shell.execute_reply": "2024-04-24T14:21:38.310864Z",
          "shell.execute_reply.started": "2024-04-24T14:21:36.431671Z"
        },
        "id": "C9UkvVsokZYW",
        "outputId": "01be2b03-36a7-4365-b83c-96869714873e",
        "trusted": true
      },
      "outputs": [
        {
          "data": {
            "text/html": [
              "<div>\n",
              "<style scoped>\n",
              "    .dataframe tbody tr th:only-of-type {\n",
              "        vertical-align: middle;\n",
              "    }\n",
              "\n",
              "    .dataframe tbody tr th {\n",
              "        vertical-align: top;\n",
              "    }\n",
              "\n",
              "    .dataframe thead th {\n",
              "        text-align: right;\n",
              "    }\n",
              "</style>\n",
              "<table border=\"1\" class=\"dataframe\">\n",
              "  <thead>\n",
              "    <tr style=\"text-align: right;\">\n",
              "      <th></th>\n",
              "      <th>review</th>\n",
              "      <th>sentiment</th>\n",
              "    </tr>\n",
              "  </thead>\n",
              "  <tbody>\n",
              "    <tr>\n",
              "      <th>0</th>\n",
              "      <td>میں نے اسے 80 کی دہائی کے وسط میں ایک کیبل گائ...</td>\n",
              "      <td>positive</td>\n",
              "    </tr>\n",
              "    <tr>\n",
              "      <th>1</th>\n",
              "      <td>چونکہ میں نے 80 کی دہائی میں انسپکٹر گیجٹ کارٹ...</td>\n",
              "      <td>negative</td>\n",
              "    </tr>\n",
              "    <tr>\n",
              "      <th>2</th>\n",
              "      <td>ایک ایسے معاشرے کی حالت کے بارے میں تعجب کرتا ...</td>\n",
              "      <td>positive</td>\n",
              "    </tr>\n",
              "    <tr>\n",
              "      <th>3</th>\n",
              "      <td>مفید البرٹ پیون کی طرف سے ایک اور ردی کی ٹوکری...</td>\n",
              "      <td>negative</td>\n",
              "    </tr>\n",
              "    <tr>\n",
              "      <th>4</th>\n",
              "      <td>یہ کولمبو ہے جس کی ہدایتکاری اپنے کیریئر کے اب...</td>\n",
              "      <td>positive</td>\n",
              "    </tr>\n",
              "  </tbody>\n",
              "</table>\n",
              "</div>"
            ],
            "text/plain": [
              "                                              review sentiment\n",
              "0  میں نے اسے 80 کی دہائی کے وسط میں ایک کیبل گائ...  positive\n",
              "1  چونکہ میں نے 80 کی دہائی میں انسپکٹر گیجٹ کارٹ...  negative\n",
              "2  ایک ایسے معاشرے کی حالت کے بارے میں تعجب کرتا ...  positive\n",
              "3  مفید البرٹ پیون کی طرف سے ایک اور ردی کی ٹوکری...  negative\n",
              "4  یہ کولمبو ہے جس کی ہدایتکاری اپنے کیریئر کے اب...  positive"
            ]
          },
          "execution_count": 3,
          "metadata": {},
          "output_type": "execute_result"
        }
      ],
      "source": [
        "train_df = pd.read_csv(train_set)\n",
        "test_df = pd.read_csv(test_set)\n",
        "train_df.head()"
      ]
    },
    {
      "cell_type": "code",
      "execution_count": 4,
      "metadata": {
        "colab": {
          "base_uri": "https://localhost:8080/",
          "height": 755
        },
        "execution": {
          "iopub.execute_input": "2024-04-24T14:35:32.490615Z",
          "iopub.status.busy": "2024-04-24T14:35:32.489921Z",
          "iopub.status.idle": "2024-04-24T14:35:32.770916Z",
          "shell.execute_reply": "2024-04-24T14:35:32.769662Z",
          "shell.execute_reply.started": "2024-04-24T14:35:32.490580Z"
        },
        "id": "o_0mV0pIkZYa",
        "outputId": "28333359-7462-4a04-8b58-7a3e685d10d0",
        "trusted": true
      },
      "outputs": [
        {
          "data": {
            "image/png": "[encoded data removed]",
            "text/plain": [
              "<Figure size 1000x600 with 1 Axes>"
            ]
          },
          "metadata": {},
          "output_type": "display_data"
        },
        {
          "name": "stdout",
          "output_type": "stream",
          "text": [
            "Unique values and their counts in 'Sentiment' column for Train Data:\n",
            "sentiment\n",
            "negative    20082\n",
            "positive    19918\n",
            "Name: count, dtype: int64\n",
            "\n",
            "Unique values and their counts in 'Sentiment' column for Test Data:\n",
            "sentiment\n",
            "positive    5082\n",
            "negative    4918\n",
            "Name: count, dtype: int64\n"
          ]
        }
      ],
      "source": [
        "import matplotlib.pyplot as plt\n",
        "\n",
        "train_unique_counts = train_df['sentiment'].value_counts()\n",
        "test_unique_counts = test_df['sentiment'].value_counts()\n",
        "plt.figure(figsize=(10, 6))\n",
        "plt.bar(['Train Data', 'Test Data'], [len(train_unique_counts), len(test_unique_counts)])\n",
        "plt.xlabel('Dataset')\n",
        "plt.ylabel('Number of Unique Values')\n",
        "plt.title('Number of Unique Values in \"Sentiment\" Column')\n",
        "plt.show()\n",
        "print(\"Unique values and their counts in 'Sentiment' column for Train Data:\")\n",
        "print(train_unique_counts)\n",
        "print(\"\\nUnique values and their counts in 'Sentiment' column for Test Data:\")\n",
        "print(test_unique_counts)"
      ]
    },
    {
      "cell_type": "markdown",
      "metadata": {
        "id": "rTzlVfATkZYf"
      },
      "source": [
        "### MODEL"
      ]
    },
    {
      "cell_type": "code",
      "execution_count": 5,
      "metadata": {
        "execution": {
          "iopub.execute_input": "2024-04-24T14:38:50.306346Z",
          "iopub.status.busy": "2024-04-24T14:38:50.305902Z",
          "iopub.status.idle": "2024-04-24T14:38:50.312251Z",
          "shell.execute_reply": "2024-04-24T14:38:50.311169Z",
          "shell.execute_reply.started": "2024-04-24T14:38:50.306301Z"
        },
        "id": "CGBEzQdAkZYg",
        "trusted": true
      },
      "outputs": [],
      "source": [
        "import warnings\n",
        "warnings.filterwarnings(\"ignore\")\n",
        "import re\n",
        "from keras.preprocessing.text import Tokenizer\n",
        "from keras.preprocessing.sequence import pad_sequences\n",
        "from keras.models import Sequential\n",
        "from keras.layers import Embedding, LSTM, Dense"
      ]
    },
    {
      "cell_type": "markdown",
      "metadata": {
        "id": "GFhY7ygKkZYg"
      },
      "source": [
        "#### Preprocessing"
      ]
    },
    {
      "cell_type": "code",
      "execution_count": 6,
      "metadata": {
        "execution": {
          "iopub.execute_input": "2024-04-24T14:21:58.641921Z",
          "iopub.status.busy": "2024-04-24T14:21:58.641236Z",
          "iopub.status.idle": "2024-04-24T14:22:01.936773Z",
          "shell.execute_reply": "2024-04-24T14:22:01.935871Z",
          "shell.execute_reply.started": "2024-04-24T14:21:58.641887Z"
        },
        "id": "xqGaQaA5kZYh",
        "trusted": true
      },
      "outputs": [],
      "source": [
        "def preprocess_text(text):\n",
        "    text = re.sub(r\"[A-Za-z0-9]+\", '', text)  # Remove English letters and numerics\n",
        "    return text.lower().strip()\n",
        "\n",
        "# Apply preprocessing to the 'review' column in train_df and test_df\n",
        "train_df['review'] = train_df['review'].apply(preprocess_text)\n",
        "test_df['review'] = test_df['review'].apply(preprocess_text)\n"
      ]
    },
    {
      "cell_type": "markdown",
      "metadata": {
        "id": "b1MyFr7RkZYi"
      },
      "source": [
        "#### Tokenization and Padding"
      ]
    },
    {
      "cell_type": "code",
      "execution_count": 7,
      "metadata": {
        "execution": {
          "iopub.execute_input": "2024-04-24T14:22:03.669526Z",
          "iopub.status.busy": "2024-04-24T14:22:03.669133Z",
          "iopub.status.idle": "2024-04-24T14:22:35.720817Z",
          "shell.execute_reply": "2024-04-24T14:22:35.719721Z",
          "shell.execute_reply.started": "2024-04-24T14:22:03.669496Z"
        },
        "id": "6etcNDsNkZYi",
        "trusted": true
      },
      "outputs": [],
      "source": [
        "# Tokenization and Padding\n",
        "max_words = 10000\n",
        "tokenizer = Tokenizer(num_words=max_words, oov_token='<OOV>')\n",
        "tokenizer.fit_on_texts(train_df['review'])\n",
        "\n",
        "train_sequences = tokenizer.texts_to_sequences(train_df['review'])\n",
        "test_sequences = tokenizer.texts_to_sequences(test_df['review'])\n",
        "\n",
        "max_length = 50\n",
        "train_padded = pad_sequences(train_sequences, maxlen=max_length, padding='post', truncating='post')\n",
        "test_padded = pad_sequences(test_sequences, maxlen=max_length, padding='post', truncating='post')\n"
      ]
    },
    {
      "cell_type": "markdown",
      "metadata": {
        "id": "EEjvG7jikZYj"
      },
      "source": [
        "#### Model Definition\n"
      ]
    },
    {
      "cell_type": "code",
      "execution_count": 8,
      "metadata": {
        "execution": {
          "iopub.execute_input": "2024-04-24T14:23:21.939541Z",
          "iopub.status.busy": "2024-04-24T14:23:21.938758Z",
          "iopub.status.idle": "2024-04-24T14:23:22.494560Z",
          "shell.execute_reply": "2024-04-24T14:23:22.493549Z",
          "shell.execute_reply.started": "2024-04-24T14:23:21.939500Z"
        },
        "id": "Qmagg6bZkZYj",
        "outputId": "c2ed685d-8fcc-4662-f7cf-e3d04c5927cb",
        "trusted": true
      },
      "outputs": [
        {
          "name": "stdout",
          "output_type": "stream",
          "text": [
            "Model: \"sequential\"\n",
            "_________________________________________________________________\n",
            " Layer (type)                Output Shape              Param #   \n",
            "=================================================================\n",
            " embedding (Embedding)       (None, None, 32)          320000    \n",
            "                                                                 \n",
            " lstm (LSTM)                 (None, None, 128)         82432     \n",
            "                                                                 \n",
            " lstm_1 (LSTM)               (None, 64)                49408     \n",
            "                                                                 \n",
            " dense (Dense)               (None, 1)                 65        \n",
            "                                                                 \n",
            "=================================================================\n",
            "Total params: 451905 (1.72 MB)\n",
            "Trainable params: 451905 (1.72 MB)\n",
            "Non-trainable params: 0 (0.00 Byte)\n",
            "_________________________________________________________________\n"
          ]
        }
      ],
      "source": [
        "# Model Definition\n",
        "embedding_dim = 32\n",
        "model = Sequential([\n",
        "    Embedding(input_dim=max_words, output_dim=embedding_dim),\n",
        "    LSTM(128, return_sequences=True),\n",
        "    LSTM(64),\n",
        "    Dense(1, activation='sigmoid')\n",
        "])\n",
        "\n",
        "model.compile(loss='binary_crossentropy', optimizer='adam', metrics=['accuracy'])\n",
        "model.summary()"
      ]
    },
    {
      "cell_type": "markdown",
      "metadata": {
        "id": "nbY-aeASkZYk"
      },
      "source": [
        "#### Model Training"
      ]
    },
    {
      "cell_type": "code",
      "execution_count": 9,
      "metadata": {
        "execution": {
          "iopub.execute_input": "2024-04-24T14:23:24.593262Z",
          "iopub.status.busy": "2024-04-24T14:23:24.592856Z",
          "iopub.status.idle": "2024-04-24T14:25:20.882857Z",
          "shell.execute_reply": "2024-04-24T14:25:20.881985Z",
          "shell.execute_reply.started": "2024-04-24T14:23:24.593234Z"
        },
        "id": "1ip-1n-7kZYk",
        "outputId": "f72eedc0-b6ad-4ada-ae24-a37536868998",
        "trusted": true
      },
      "outputs": [
        {
          "name": "stdout",
          "output_type": "stream",
          "text": [
            "Epoch 1/10\n",
            "1250/1250 [==============================] - 144s 109ms/step - loss: 0.5657 - accuracy: 0.6995 - val_loss: 0.5204 - val_accuracy: 0.7399\n",
            "Epoch 2/10\n",
            "1250/1250 [==============================] - 102s 81ms/step - loss: 0.4645 - accuracy: 0.7790 - val_loss: 0.5159 - val_accuracy: 0.7491\n",
            "Epoch 3/10\n",
            "1250/1250 [==============================] - 99s 79ms/step - loss: 0.4106 - accuracy: 0.8093 - val_loss: 0.5347 - val_accuracy: 0.7392\n",
            "Epoch 4/10\n",
            "1250/1250 [==============================] - 101s 81ms/step - loss: 0.3537 - accuracy: 0.8412 - val_loss: 0.5440 - val_accuracy: 0.7405\n",
            "Epoch 5/10\n",
            "1250/1250 [==============================] - 100s 80ms/step - loss: 0.2895 - accuracy: 0.8771 - val_loss: 0.6984 - val_accuracy: 0.7290\n",
            "Epoch 6/10\n",
            "1250/1250 [==============================] - 111s 89ms/step - loss: 0.2325 - accuracy: 0.9033 - val_loss: 0.6889 - val_accuracy: 0.7196\n",
            "Epoch 7/10\n",
            "1250/1250 [==============================] - 113s 90ms/step - loss: 0.1862 - accuracy: 0.9259 - val_loss: 0.8091 - val_accuracy: 0.7169\n",
            "Epoch 8/10\n",
            "1250/1250 [==============================] - 112s 89ms/step - loss: 0.1463 - accuracy: 0.9457 - val_loss: 1.0055 - val_accuracy: 0.7174\n",
            "Epoch 9/10\n",
            "1250/1250 [==============================] - 100s 80ms/step - loss: 0.1155 - accuracy: 0.9586 - val_loss: 1.0982 - val_accuracy: 0.7137\n",
            "Epoch 10/10\n",
            "1250/1250 [==============================] - 101s 81ms/step - loss: 0.0929 - accuracy: 0.9679 - val_loss: 1.2452 - val_accuracy: 0.7069\n"
          ]
        },
        {
          "data": {
            "text/plain": [
              "<keras.src.callbacks.History at 0x277f6526e90>"
            ]
          },
          "execution_count": 9,
          "metadata": {},
          "output_type": "execute_result"
        }
      ],
      "source": [
        "# Model Training\n",
        "X_train, y_train = train_padded, (train_df['sentiment'] == 'positive').astype(int)\n",
        "X_test, y_test = test_padded, (test_df['sentiment'] == 'positive').astype(int)\n",
        "\n",
        "model.fit(X_train, y_train, epochs=10, validation_data=(X_test, y_test))"
      ]
    },
    {
      "cell_type": "markdown",
      "metadata": {
        "id": "jZgcTCckkZYk"
      },
      "source": [
        "#### Model Evaluation"
      ]
    },
    {
      "cell_type": "code",
      "execution_count": 14,
      "metadata": {
        "execution": {
          "iopub.execute_input": "2024-04-24T14:26:41.566568Z",
          "iopub.status.busy": "2024-04-24T14:26:41.565851Z",
          "iopub.status.idle": "2024-04-24T14:26:42.908333Z",
          "shell.execute_reply": "2024-04-24T14:26:42.907217Z",
          "shell.execute_reply.started": "2024-04-24T14:26:41.566534Z"
        },
        "id": "WkG96139kZYk",
        "outputId": "dd8e84a6-4660-4be7-9339-3f5a5c5c341a",
        "trusted": true
      },
      "outputs": [
        {
          "name": "stdout",
          "output_type": "stream",
          "text": [
            "313/313 [==============================] - 18s 56ms/step - loss: 1.2452 - accuracy: 0.7069\n",
            "Test Accuracy: 0.7069000005722046\n"
          ]
        }
      ],
      "source": [
        "# Evaluate the Model\n",
        "test_loss, test_acc = model.evaluate(X_test, y_test)\n",
        "print(f\"Test Accuracy: {test_acc}\")"
      ]
    },
    {
      "cell_type": "markdown",
      "metadata": {
        "id": "hra6fDaokZYl"
      },
      "source": [
        "#### Model Inference"
      ]
    },
    {
      "cell_type": "code",
      "execution_count": 15,
      "metadata": {
        "execution": {
          "iopub.execute_input": "2024-04-24T14:31:01.365680Z",
          "iopub.status.busy": "2024-04-24T14:31:01.364649Z",
          "iopub.status.idle": "2024-04-24T14:31:01.441740Z",
          "shell.execute_reply": "2024-04-24T14:31:01.440875Z",
          "shell.execute_reply.started": "2024-04-24T14:31:01.365640Z"
        },
        "id": "6MNGIODjkZYl",
        "outputId": "e9aa0bb6-c396-4302-dab6-659bd2d9febb",
        "trusted": true
      },
      "outputs": [
        {
          "name": "stdout",
          "output_type": "stream",
          "text": [
            "1/1 [==============================] - 0s 85ms/step\n",
            "0.9970922\n",
            "The sentiment of the input text is: POSITIVE\n"
          ]
        }
      ],
      "source": [
        "# Inference I Guess\n",
        "# new_text = \"یہ کرنا ایک بری چیز ہے۔\"\n",
        "new_text = \"یہ کرنا ایک اچھی چیز ہے۔\" # positive test\n",
        "\n",
        "new_text = preprocess_text(new_text)\n",
        "\n",
        "new_sequence = tokenizer.texts_to_sequences([new_text])\n",
        "new_padded = pad_sequences(new_sequence, maxlen=max_length, padding='post', truncating='post')\n",
        "\n",
        "prediction = model.predict(new_padded)\n",
        "print(prediction[0][0])\n",
        "\n",
        "if prediction[0][0] >= 0.5:\n",
        "    sentiment = 'POSITIVE'\n",
        "else:\n",
        "    sentiment = 'NEGATIVE'\n",
        "\n",
        "print(f\"The sentiment of the input text is: {sentiment}\")"
      ]
    },
    {
      "cell_type": "code",
      "execution_count": 16,
      "metadata": {},
      "outputs": [
        {
          "name": "stdout",
          "output_type": "stream",
          "text": [
            "1/1 [==============================] - 0s 40ms/step\n",
            "0.01119917\n",
            "The sentiment of the input text is: NEGATIVE\n"
          ]
        }
      ],
      "source": [
        "# Inference I Guess\n",
        "new_text = \"یہ کرنا ایک بری چیز ہے۔\"\n",
        "# new_text = \"یہ کرنا ایک اچھی چیز ہے۔\" # positive test\n",
        "\n",
        "new_text = preprocess_text(new_text)\n",
        "\n",
        "new_sequence = tokenizer.texts_to_sequences([new_text])\n",
        "new_padded = pad_sequences(new_sequence, maxlen=max_length, padding='post', truncating='post')\n",
        "\n",
        "prediction = model.predict(new_padded)\n",
        "print(prediction[0][0])\n",
        "\n",
        "if prediction[0][0] >= 0.5:\n",
        "    sentiment = 'POSITIVE'\n",
        "else:\n",
        "    sentiment = 'NEGATIVE'\n",
        "\n",
        "print(f\"The sentiment of the input text is: {sentiment}\")"
      ]
    },
    {
      "cell_type": "markdown",
      "metadata": {
        "id": "EnvVx7bSkZYm"
      },
      "source": [
        "#### Save the tokens and model for standalone usage"
      ]
    },
    {
      "cell_type": "code",
      "execution_count": 13,
      "metadata": {
        "execution": {
          "iopub.execute_input": "2024-04-24T14:39:43.995619Z",
          "iopub.status.busy": "2024-04-24T14:39:43.995170Z",
          "iopub.status.idle": "2024-04-24T14:39:46.536829Z",
          "shell.execute_reply": "2024-04-24T14:39:46.535972Z",
          "shell.execute_reply.started": "2024-04-24T14:39:43.995565Z"
        },
        "id": "8X4jmviykZYm",
        "trusted": true
      },
      "outputs": [],
      "source": [
        "# Save model and Tokens\n",
        "model.save(\"urduModel.h5\")\n",
        "train_df['review']\n",
        "train_df[['review']].to_csv('tokens.csv', index=False)"
      ]
    }
  ],
  "metadata": {
    "colab": {
      "provenance": []
    },
    "kaggle": {
      "accelerator": "gpu",
      "dataSources": [
        {
          "datasetId": 526736,
          "sourceId": 1136791,
          "sourceType": "datasetVersion"
        }
      ],
      "dockerImageVersionId": 30699,
      "isGpuEnabled": true,
      "isInternetEnabled": true,
      "language": "python",
      "sourceType": "notebook"
    },
    "kernelspec": {
      "display_name": "Python 3",
      "language": "python",
      "name": "python3"
    },
    "language_info": {
      "codemirror_mode": {
        "name": "ipython",
        "version": 3
      },
      "file_extension": ".py",
      "mimetype": "text/x-python",
      "name": "python",
      "nbconvert_exporter": "python",
      "pygments_lexer": "ipython3",
      "version": "3.10.0"
    }
  },
  "nbformat": 4,
  "nbformat_minor": 0
}
