{
 "cells": [
  {
   "cell_type": "code",
   "execution_count": 1,
   "metadata": {},
   "outputs": [],
   "source": [
    "import pandas as pd"
   ]
  },
  {
   "cell_type": "code",
   "execution_count": 2,
   "metadata": {},
   "outputs": [],
   "source": [
    "import re\n",
    "from keras.preprocessing.text import Tokenizer\n",
    "from keras.preprocessing.sequence import pad_sequences\n",
    "from keras.models import load_model"
   ]
  },
  {
   "cell_type": "code",
   "execution_count": 3,
   "metadata": {},
   "outputs": [],
   "source": [
    "tokens = pd.read_csv('tokens.csv')\n",
    "tokens_cleaned = tokens.dropna(subset=['review'])"
   ]
  },
  {
   "cell_type": "code",
   "execution_count": 4,
   "metadata": {},
   "outputs": [],
   "source": [
    "tokenizer = Tokenizer(num_words=10000, oov_token='<OOV>')\n",
    "tokenizer.fit_on_texts(tokens_cleaned['review'])"
   ]
  },
  {
   "cell_type": "code",
   "execution_count": 5,
   "metadata": {},
   "outputs": [],
   "source": [
    "model = load_model('urduModel.h5')"
   ]
  },
  {
   "cell_type": "code",
   "execution_count": 6,
   "metadata": {},
   "outputs": [],
   "source": [
    "def preprocess_text(text):\n",
    "    text = re.sub(r\"[A-Za-z0-9]+\", '', text)  # Remove English letters and numerics\n",
    "    return text.lower().strip()\n",
    "\n",
    "max_length = 50"
   ]
  },
  {
   "cell_type": "code",
   "execution_count": 8,
   "metadata": {},
   "outputs": [
    {
     "name": "stdout",
     "output_type": "stream",
     "text": [
      "1/1 [==============================] - 0s 39ms/step\n",
      "0.008973029\n",
      "The sentiment of the input text is: NEGATIVE\n"
     ]
    }
   ],
   "source": [
    "# Inference I Guess\n",
    "new_text = \"یہ کرنا ایک بری چیز ہے۔\"\n",
    "# new_text = \"یہ کرنا ایک اچھی چیز ہے۔\" # positive test\n",
    "\n",
    "new_text = preprocess_text(new_text)\n",
    "\n",
    "new_sequence = tokenizer.texts_to_sequences([new_text])\n",
    "new_padded = pad_sequences(new_sequence, maxlen=max_length, padding='post', truncating='post')\n",
    "\n",
    "prediction = model.predict(new_padded)\n",
    "print(prediction[0][0])\n",
    "\n",
    "if prediction[0][0] >= 0.5:\n",
    "    sentiment = 'POSITIVE'\n",
    "else:\n",
    "    sentiment = 'NEGATIVE'\n",
    "\n",
    "print(f\"The sentiment of the input text is: {sentiment}\")"
   ]
  }
 ],
 "metadata": {
  "kernelspec": {
   "display_name": "Python 3",
   "language": "python",
   "name": "python3"
  },
  "language_info": {
   "codemirror_mode": {
    "name": "ipython",
    "version": 3
   },
   "file_extension": ".py",
   "mimetype": "text/x-python",
   "name": "python",
   "nbconvert_exporter": "python",
   "pygments_lexer": "ipython3",
   "version": "3.10.0"
  }
 },
 "nbformat": 4,
 "nbformat_minor": 2
}
